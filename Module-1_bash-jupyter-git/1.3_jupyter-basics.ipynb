{
 "cells": [
  {
   "cell_type": "markdown",
   "metadata": {},
   "source": [
    "# 1.3 jupyter basics\n",
    "\n",
    "\n",
    "This notebook will demonstrate the basics of working with jupyter notebooks.  We'll practice using the bash commands we learned in the previous slide deck."
   ]
  },
  {
   "cell_type": "markdown",
   "metadata": {},
   "source": [
    "## Creating and running cells\n",
    "First, create a new cell below this one by clicking on this cell and the selecting \"Insert\"->\"Insert Cell Below\".  (NOTE: If you accidentally double-click on this cell and go in *edit mode*, you can return to *command mode* by clicking the \"Run\" button above.)\n",
    "\n",
    "After you've created your new cell, type `2+3` and run the cell.  Play around with other arithmetic operations."
   ]
  },
  {
   "cell_type": "code",
   "execution_count": 1,
   "metadata": {},
   "outputs": [
    {
     "data": {
      "text/plain": [
       "5"
      ]
     },
     "execution_count": 1,
     "metadata": {},
     "output_type": "execute_result"
    }
   ],
   "source": [
    "2 + 3"
   ]
  },
  {
   "cell_type": "markdown",
   "metadata": {},
   "source": [
    "## Running bash commands\n",
    "\n",
    "#### Practice some of your bash commands by adding `%%bash` to the start of a cell.\n",
    "For example, type these commands into a new cell and run it:\n",
    "```\n",
    "%%bash\n",
    "pwd\n",
    "```"
   ]
  },
  {
   "cell_type": "code",
   "execution_count": 3,
   "metadata": {},
   "outputs": [
    {
     "name": "stdout",
     "output_type": "stream",
     "text": [
      "/Users/will/Documents/Dev/SRCourse/Applied-Bioinformatics/Module-1_bash-jupyter-git\n"
     ]
    }
   ],
   "source": [
    "%%bash\n",
    "pwd"
   ]
  },
  {
   "cell_type": "code",
   "execution_count": null,
   "metadata": {},
   "outputs": [],
   "source": []
  },
  {
   "cell_type": "markdown",
   "metadata": {},
   "source": [
    "#### Examine the contents of the current directory:\n",
    "```\n",
    "%%bash\n",
    "ls\n",
    "```"
   ]
  },
  {
   "cell_type": "code",
   "execution_count": null,
   "metadata": {},
   "outputs": [],
   "source": []
  },
  {
   "cell_type": "markdown",
   "metadata": {},
   "source": [
    "#### Examine the contents of the `data/art` subdirectory\n",
    "```\n",
    "%%bash\n",
    "ls data/art\n",
    "```"
   ]
  },
  {
   "cell_type": "markdown",
   "metadata": {},
   "source": [
    "#### Examine the context of the `artists.txt` file\n",
    "```\n",
    "%%bash\n",
    "cd data/art\n",
    "less artists.txt\n",
    "```"
   ]
  },
  {
   "cell_type": "markdown",
   "metadata": {},
   "source": [
    "#### What year was the painter Giuseppe Abbati born in?\n",
    "Find and correct the error...\n",
    "```\n",
    "%%bash\n",
    "cd data/art\n",
    "grep Abbati artists.txt\n",
    "```"
   ]
  },
  {
   "cell_type": "code",
   "execution_count": 5,
   "metadata": {},
   "outputs": [
    {
     "name": "stdout",
     "output_type": "stream",
     "text": [
      "ABBATI, Giuseppe\t(1836-1868)\tRealism\tItalian painter\n",
      "ABBATINI, Guido Ubaldo\t(c. 1602-1656)\tBaroque\tItalian painter (Rome)\n"
     ]
    }
   ],
   "source": [
    "%%bash\n",
    "cd data/art\n",
    "grep -i Abbati artists.txt"
   ]
  },
  {
   "cell_type": "markdown",
   "metadata": {},
   "source": [
    "#### How many Italian painters are listed in `artists.txt`?\n",
    "Find and correct the error...\n",
    "```\n",
    "%%bash\n",
    "cd /data/art\n",
    "grep -c Italian painters artists.txt\n",
    "```"
   ]
  },
  {
   "cell_type": "code",
   "execution_count": 8,
   "metadata": {},
   "outputs": [
    {
     "name": "stdout",
     "output_type": "stream",
     "text": [
      "23\n"
     ]
    }
   ],
   "source": [
    "%%bash\n",
    "cd data/art\n",
    "grep -c \"Italian painter\" artists.txt"
   ]
  },
  {
   "cell_type": "markdown",
   "metadata": {},
   "source": [
    "## Homework\n",
    "\n",
    "These problems will test your understanding of both basic bash commands and of the jupyter notebook.  Answer each of the questions below by creating and executing a new code cell underneath each question."
   ]
  },
  {
   "cell_type": "markdown",
   "metadata": {},
   "source": [
    "### HW1: Use the `ls` command to sort all files in `data/art` by file size."
   ]
  },
  {
   "cell_type": "code",
   "execution_count": 14,
   "metadata": {},
   "outputs": [
    {
     "name": "stdout",
     "output_type": "stream",
     "text": [
      "total 32\n",
      " 0 data\n",
      " 8 1.5_redirection-and-pipes.ipynb\n",
      " 8 1.4_working-with-files.ipynb\n",
      "16 1.3_jupyter-basics.ipynb\n"
     ]
    }
   ],
   "source": [
    "%%bash\n",
    "ls -sr"
   ]
  },
  {
   "cell_type": "markdown",
   "metadata": {},
   "source": [
    "### HW2: Count the number of artists in `artists.txt` *excluding* French painters."
   ]
  },
  {
   "cell_type": "code",
   "execution_count": 26,
   "metadata": {},
   "outputs": [
    {
     "name": "stdout",
     "output_type": "stream",
     "text": [
      "     144\n"
     ]
    }
   ],
   "source": [
    "%%bash\n",
    "cd data/art\n",
    "grep -v \"French painter\" artists.txt | wc -l"
   ]
  },
  {
   "cell_type": "markdown",
   "metadata": {},
   "source": [
    "### HW3: List only the csv files in `data/tmp`."
   ]
  },
  {
   "cell_type": "code",
   "execution_count": 27,
   "metadata": {},
   "outputs": [
    {
     "name": "stdout",
     "output_type": "stream",
     "text": [
      "file192.csv\n",
      "file33.csv\n",
      "file96.csv\n"
     ]
    }
   ],
   "source": [
    "%%bash\n",
    "ls data/tmp | grep 'csv'"
   ]
  },
  {
   "cell_type": "code",
   "execution_count": 33,
   "metadata": {},
   "outputs": [
    {
     "name": "stdout",
     "output_type": "stream",
     "text": [
      "data/tmp/file192.csv\n",
      "data/tmp/file33.csv\n",
      "data/tmp/file96.csv\n"
     ]
    }
   ],
   "source": [
    "%%bash\n",
    "ls data/tmp/*.csv"
   ]
  },
  {
   "cell_type": "code",
   "execution_count": null,
   "metadata": {},
   "outputs": [],
   "source": []
  }
 ],
 "metadata": {
  "kernelspec": {
   "display_name": "Python 3",
   "language": "python",
   "name": "python3"
  },
  "language_info": {
   "codemirror_mode": {
    "name": "ipython",
    "version": 3
   },
   "file_extension": ".py",
   "mimetype": "text/x-python",
   "name": "python",
   "nbconvert_exporter": "python",
   "pygments_lexer": "ipython3",
   "version": "3.5.4"
  }
 },
 "nbformat": 4,
 "nbformat_minor": 2
}
